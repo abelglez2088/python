{
 "cells": [
  {
   "cell_type": "code",
   "execution_count": null,
   "metadata": {
    "tags": [
     "parameters"
    ]
   },
   "outputs": [],
   "source": [
    "nombre = input(\"Escriba el nombre que quiere repetir: \")\n",
    "\n",
    "if nombre:  # Verifica que la entrada no esté vacía\n",
    "    repeticiones = int(input(\"¿Cuántas veces desea repetir el nombre? \"))\n",
    "    for _ in range(repeticiones):\n",
    "        print(nombre)\n",
    "else:\n",
    "    print(\"No se introdujo un nombre.\")\n"
   ]
  }
 ],
 "metadata": {
  "kernelspec": {
   "display_name": "Python 3",
   "language": "python",
   "name": "python3"
  },
  "language_info": {
   "codemirror_mode": {
    "name": "ipython",
    "version": 3
   },
   "file_extension": ".py",
   "mimetype": "text/x-python",
   "name": "python",
   "nbconvert_exporter": "python",
   "pygments_lexer": "ipython3",
   "version": "3.12.1"
  }
 },
 "nbformat": 4,
 "nbformat_minor": 2
}
